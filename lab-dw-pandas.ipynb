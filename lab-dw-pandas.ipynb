{
 "cells": [
  {
   "cell_type": "markdown",
   "id": "25d7736c-ba17-4aff-b6bb-66eba20fbf4e",
   "metadata": {},
   "source": [
    "# Lab | Pandas"
   ]
  },
  {
   "cell_type": "markdown",
   "id": "d1973e9e-8be6-4039-b70e-d73ee0d94c99",
   "metadata": {},
   "source": [
    "In this lab, we will be working with the customer data from an insurance company, which can be found in the CSV file located at the following link: https://raw.githubusercontent.com/data-bootcamp-v4/data/main/file1.csv\n",
    "\n",
    "The data includes information such as customer ID, state, gender, education, income, and other variables that can be used to perform various analyses.\n",
    "\n",
    "Throughout the lab, we will be using the pandas library in Python to manipulate and analyze the data. Pandas is a powerful library that provides various data manipulation and analysis tools, including the ability to load and manipulate data from a variety of sources, including CSV files."
   ]
  },
  {
   "cell_type": "markdown",
   "id": "8045146f-f4f7-44d9-8cd9-130d6400c73a",
   "metadata": {},
   "source": [
    "### Data Description\n",
    "\n",
    "- Customer - Customer ID\n",
    "\n",
    "- ST - State where customers live\n",
    "\n",
    "- Gender - Gender of the customer\n",
    "\n",
    "- Education - Background education of customers \n",
    "\n",
    "- Customer Lifetime Value - Customer lifetime value(CLV) is the total revenue the client will derive from their entire relationship with a customer. In other words, is the predicted or calculated value of a customer over their entire duration as a policyholder with the insurance company. It is an estimation of the net profit that the insurance company expects to generate from a customer throughout their relationship with the company. Customer Lifetime Value takes into account factors such as the duration of the customer's policy, premium payments, claim history, renewal likelihood, and potential additional services or products the customer may purchase. It helps insurers assess the long-term profitability and value associated with retaining a particular customer.\n",
    "\n",
    "- Income - Customers income\n",
    "\n",
    "- Monthly Premium Auto - Amount of money the customer pays on a monthly basis as a premium for their auto insurance coverage. It represents the recurring cost that the insured person must pay to maintain their insurance policy and receive coverage for potential damages, accidents, or other covered events related to their vehicle.\n",
    "\n",
    "- Number of Open Complaints - Number of complaints the customer opened\n",
    "\n",
    "- Policy Type - There are three type of policies in car insurance (Corporate Auto, Personal Auto, and Special Auto)\n",
    "\n",
    "- Vehicle Class - Type of vehicle classes that customers have Two-Door Car, Four-Door Car SUV, Luxury SUV, Sports Car, and Luxury Car\n",
    "\n",
    "- Total Claim Amount - the sum of all claims made by the customer. It represents the total monetary value of all approved claims for incidents such as accidents, theft, vandalism, or other covered events.\n"
   ]
  },
  {
   "cell_type": "markdown",
   "id": "3a72419b-20fc-4905-817a-8c83abc59de6",
   "metadata": {},
   "source": [
    "External Resources: https://towardsdatascience.com/filtering-data-frames-in-pandas-b570b1f834b9"
   ]
  },
  {
   "cell_type": "markdown",
   "id": "8f8ece17-e919-4e23-96c0-c7c59778436a",
   "metadata": {},
   "source": [
    "## Challenge 1: Understanding the data\n",
    "\n",
    "In this challenge, you will use pandas to explore a given dataset. Your task is to gain a deep understanding of the data by analyzing its characteristics, dimensions, and statistical properties."
   ]
  },
  {
   "cell_type": "markdown",
   "id": "91437bd5-59a6-49c0-8150-ef0e6e6eb253",
   "metadata": {},
   "source": [
    "- Identify the dimensions of the dataset by determining the number of rows and columns it contains.\n",
    "- Determine the data types of each column and evaluate whether they are appropriate for the nature of the variable. You should also provide suggestions for fixing any incorrect data types.\n",
    "- Identify the number of unique values for each column and determine which columns appear to be categorical. You should also describe the unique values of each categorical column and the range of values for numerical columns, and give your insights.\n",
    "- Compute summary statistics such as mean, median, mode, standard deviation, and quartiles to understand the central tendency and distribution of the data for numerical columns. You should also provide your conclusions based on these summary statistics.\n",
    "- Compute summary statistics for categorical columns and providing your conclusions based on these statistics."
   ]
  },
  {
   "cell_type": "code",
   "execution_count": null,
   "id": "dd4e8cd8-a6f6-486c-a5c4-1745b0c035f4",
   "metadata": {},
   "outputs": [],
   "source": [
    "# Your code here\n",
    "import numpy as np\n",
    "import pandas as pd\n",
    "url = \"https://raw.githubusercontent.com/data-bootcamp-v4/data/main/file1.csv\"\n",
    "dataset = pd.read_csv(url)\n",
    "print (dataset)\n",
    "df =pd.DataFrame(dataset)\n",
    "#[4008 rows x 11 columns]\n",
    "df.index\n",
    "#2) Determine the data types of each column and\n",
    "#evaluate whether they are appropriate for the nature of the variable.\n",
    "df.dtypes\n",
    "df.nunique()"
   ]
  },
  {
   "cell_type": "code",
   "execution_count": null,
   "id": "f1958946",
   "metadata": {},
   "outputs": [],
   "source": [
    "#You should also provide suggestions for fixing any incorrect data types.\n",
    "df['Customer Lifetime Value'] = pd.to_numeric(df['Customer Lifetime Value'], errors='coerce')\n",
    "df['Number of Open Complaints'] = pd.to_numeric(df['Number of Open Complaints'], errors='coerce')\n",
    "df['GENDER'] = df['GENDER'].astype('category')\n",
    "df['Education'] = df['Education'].astype('category')\n",
    "df['ST'] = df['ST'].astype('category')\n",
    "df['Policy Type'] = df['Policy Type'].astype('category')\n",
    "df['Vehicle Class'] = df['Vehicle Class'].astype('category')\n",
    "\n",
    "df.dtypes"
   ]
  },
  {
   "cell_type": "code",
   "execution_count": null,
   "id": "2d06d79a",
   "metadata": {},
   "outputs": [],
   "source": [
    "#Identify the number of unique values for each\n",
    "# column and determine which columns appear to be\n",
    "# cate. goricalYou should also describe the unique values\n",
    "# of each categorical column and the range of values for numerical columns, \n",
    "#and give your insights.\n",
    "\n",
    "print(df[\"ST\"].unique())\n",
    "print(df[\"GENDER\"].unique())\n",
    "print(df[\"Education\"].unique())\n",
    "print(df[\"Policy Type\"].unique())\n",
    "print(df[\"Vehicle Class\"].unique())\n"
   ]
  },
  {
   "cell_type": "code",
   "execution_count": null,
   "id": "2b816f10",
   "metadata": {},
   "outputs": [],
   "source": [
    "#column and the range of values for numerical columns, \n",
    "\n",
    "\n",
    "\n",
    "df[\"Customer Lifetime Value\"] = pd.to_numeric(df[\"Customer Lifetime Value\"], errors='coerce')\n",
    "df[\"Income\"] = pd.to_numeric(df[\"Income\"], errors='coerce')\n",
    "df[\"Monthly Premium Auto\"] = pd.to_numeric(df[\"Monthly Premium Auto\"], errors='coerce')\n",
    "df[\"Number of Open Complaints\"] = pd.to_numeric(df[\"Number of Open Complaints\"], errors='coerce')\n",
    "df[\"Total Claim Amount\"] = pd.to_numeric(df[\"Total Claim Amount\"], errors='coerce')\n",
    "\n",
    "\n",
    "min_clv = df[\"Customer Lifetime Value\"].min()\n",
    "min_income = df[\"Income\"].min()\n",
    "min_premium = df[\"Monthly Premium Auto\"].min()\n",
    "min_open_complaints = df[\"Number of Open Complaints\"].min()\n",
    "min_claim_amount = df[\"Total Claim Amount\"].min()\n",
    "\n",
    "print(f\"Minimum Customer Lifetime Value: {min_clv}\")\n",
    "print(f\"Minimum Income: {min_income}\")\n",
    "print(f\"Minimum Monthly Premium Auto: {min_premium}\")\n",
    "print(f\"Minimum Number of Open Complaints: {min_open_complaints}\")\n",
    "print(f\"Minimum Total Claim Amount: {min_claim_amount}\")\n",
    "\n",
    "# Find and print corresponding maximum values\n",
    "max_clv = df[\"Customer Lifetime Value\"].max()\n",
    "max_income = df[\"Income\"].max()\n",
    "max_premium = df[\"Monthly Premium Auto\"].max()\n",
    "max_open_complaints = df[\"Number of Open Complaints\"].max()\n",
    "max_claim_amount = df[\"Total Claim Amount\"].max()\n",
    "\n",
    "print(f\"\\nCorresponding Maximum Customer Lifetime Value: {max_clv}\")\n",
    "print(f\"Corresponding Maximum Income: {max_income}\")\n",
    "print(f\"Corresponding Maximum Monthly Premium Auto: {max_premium}\")\n",
    "print(f\"Corresponding Maximum Number of Open Complaints: {max_open_complaints}\")\n",
    "print(f\"Corresponding Maximum Total Claim Amount: {max_claim_amount}\")\n"
   ]
  },
  {
   "cell_type": "code",
   "execution_count": null,
   "id": "a2464a39",
   "metadata": {},
   "outputs": [],
   "source": [
    "#Compute summary statistics such as mean, median, mode, standard deviation, and quartiles to understand the central tendency and distribution of the data for numerical columns. You should also provide your conclusions based on these summary statistics.\n",
    "summary = df.describe()\n",
    "print(summary)"
   ]
  },
  {
   "cell_type": "code",
   "execution_count": null,
   "id": "b1e8780d",
   "metadata": {},
   "outputs": [],
   "source": [
    "categorical_columns = [\"ST\", \"GENDER\", \"Education\",\"Policy Type\",\"Vehicle Class\"]\n",
    "\n",
    "# Subset the DataFrame to include only categorical columns\n",
    "df_categorical = df[categorical_columns]\n",
    "\n",
    "# Use the value_counts() method to get the frequency of each category in each column\n",
    "summary_statistics = pd.DataFrame()\n",
    "\n",
    "for column in categorical_columns:\n",
    "    column_stats = df[column].value_counts().reset_index()\n",
    "    column_stats.columns = [column, 'Count']\n",
    "    summary_statistics = pd.concat([summary_statistics, column_stats], axis=1)\n",
    "\n",
    "# Display the summary statistics\n",
    "print(summary_statistics)\n"
   ]
  },
  {
   "cell_type": "markdown",
   "id": "4a703890-63db-4944-b7ab-95a4f8185120",
   "metadata": {},
   "source": [
    "## Challenge 2: analyzing the data"
   ]
  },
  {
   "cell_type": "markdown",
   "id": "0776a403-c56a-452f-ac33-5fd4fdb06fc7",
   "metadata": {},
   "source": [
    "### Exercise 1"
   ]
  },
  {
   "cell_type": "markdown",
   "id": "eedbc484-da4d-4f9c-9343-e1d44311a87e",
   "metadata": {},
   "source": [
    "The marketing team wants to know the top 5 less common customer locations. Create a pandas Series object that contains the customer locations and their frequencies, and then retrieve the top 5 less common locations in ascending order."
   ]
  },
  {
   "cell_type": "code",
   "execution_count": null,
   "id": "2dca5073-4520-4f42-9390-4b92733284ed",
   "metadata": {},
   "outputs": [],
   "source": [
    "st_series = pd.read_csv(url, usecols=[\"ST\"])[\"ST\"]\n",
    "uniquest =st_series.unique()\n",
    "uniquest\n",
    "st_type= ['Washington', 'Arizona', 'Nevada', 'California', 'Oregon', 'Cali',\n",
    "       'AZ', 'WA']\n",
    "filtered_series = st_series[st_series.isin(st_type)]\n",
    "st_counts_result = filtered_series.value_counts()\n",
    "print(st_counts_result)\n",
    "least_common_st = st_counts_result.nsmallest(5)\n",
    "print(\"The 5 least common customer location are:\")\n",
    "print(least_common_st)"
   ]
  },
  {
   "cell_type": "markdown",
   "id": "0ce80f43-4afa-43c7-a78a-c917444da4e0",
   "metadata": {},
   "source": [
    "### Exercise 2\n",
    "\n",
    "The sales team wants to know the total number of policies sold for each type of policy. Create a pandas Series object that contains the policy types and their total number of policies sold, and then retrieve the policy type with the highest number of policies sold."
   ]
  },
  {
   "cell_type": "markdown",
   "id": "a9f13997-1555-4f98-aca6-970fda1d2c3f",
   "metadata": {},
   "source": [
    "*Hint:*\n",
    "- *Using value_counts() method simplifies this analysis.*\n",
    "- *Futhermore, there is a method that returns the index of the maximum value in a column or row.*\n"
   ]
  },
  {
   "cell_type": "code",
   "execution_count": null,
   "id": "bcfad6c1-9af2-4b0b-9aa9-0dc5c17473c0",
   "metadata": {},
   "outputs": [],
   "source": [
    "# Your code here\n",
    "pol_series = pd.read_csv(url, usecols=[\"Policy Type\"])[\"Policy Type\"]\n",
    "unique_values = pol_series.unique()\n",
    "policy_types = ['Personal Auto', 'Corporate Auto', 'Special Auto']\n",
    "filtered_series = pol_series[pol_series.isin(policy_types)]\n",
    "value_counts_result = filtered_series.value_counts()\n",
    "print(value_counts_result)\n",
    "max_policy_type = value_counts_result.idxmax()\n",
    "print(\" Most sell : \" + max_policy_type)\n"
   ]
  },
  {
   "cell_type": "markdown",
   "id": "0b863fd3-bf91-4d5d-86eb-be29ed9f5b70",
   "metadata": {},
   "source": [
    "### Exercise 3\n",
    "\n",
    "The sales team wants to know if customers with Personal Auto have a lower income than those with Corporate Auto. How does the average income compare between the two policy types?"
   ]
  },
  {
   "cell_type": "markdown",
   "id": "b1386d75-2810-4aa1-93e0-9485aa12d552",
   "metadata": {},
   "source": [
    "- Use *loc* to create two dataframes: one containing only Personal Auto policies and one containing only Corporate Auto policies.\n",
    "- Calculate the average income for each policy.\n",
    "- Print the results."
   ]
  },
  {
   "cell_type": "code",
   "execution_count": null,
   "id": "0c0563cf-6f8b-463d-a321-651a972f82e5",
   "metadata": {},
   "outputs": [],
   "source": [
    "\n",
    "\n",
    "url = \"https://raw.githubusercontent.com/data-bootcamp-v4/data/main/file1.csv\"\n",
    "dataset = pd.read_csv(url)\n",
    "df =pd.DataFrame(dataset)\n",
    "pa_df = df.loc[df['Policy Type'] == 'Personal Auto']\n",
    "ca_df = df.loc[df['Policy Type'] == 'Corporate Auto']\n",
    "average_in_pa = pa_df['Income'].mean()\n",
    "average_in_ca = ca_df['Income'].mean()\n",
    "print(\"Average income for personal auto policies : \", average_in_pa)\n",
    "print(\"Average income for corporate auto policies:\", average_in_ca)\n",
    "\n",
    "\n"
   ]
  },
  {
   "cell_type": "markdown",
   "id": "80b16c27-f4a5-4727-a229-1f88671cf4e2",
   "metadata": {},
   "source": [
    "### Bonus: Exercise 4\n"
   ]
  },
  {
   "cell_type": "markdown",
   "id": "ac584986-299b-475f-ac2e-928c16c3f512",
   "metadata": {},
   "source": [
    "Your goal is to identify customers with a high policy claim amount.\n",
    "\n",
    "Instructions:\n",
    "\n",
    "- Review again the statistics for total claim amount to gain an understanding of the data.\n",
    "- To identify potential areas for improving customer retention and profitability, we want to focus on customers with a high policy claim amount. Consider customers with a high policy claim amount to be those in the top 25% of the total claim amount. Create a pandas DataFrame object that contains information about customers with a policy claim amount greater than the 75th percentile.\n",
    "- Use DataFrame methods to calculate summary statistics about the high policy claim amount data. "
   ]
  },
  {
   "cell_type": "markdown",
   "id": "4e3af5f1-6023-4b05-9c01-d05392daa650",
   "metadata": {},
   "source": [
    "*Note: When analyzing data, we often want to focus on certain groups of values to gain insights. Percentiles are a useful tool to help us define these groups. A percentile is a measure that tells us what percentage of values in a dataset are below a certain value. For example, the 75th percentile represents the value below which 75% of the data falls. Similarly, the 25th percentile represents the value below which 25% of the data falls. When we talk about the top 25%, we are referring to the values that fall above the 75th percentile, which represent the top quarter of the data. On the other hand, when we talk about the bottom 25%, we are referring to the values that fall below the 25th percentile, which represent the bottom quarter of the data. By focusing on these groups, we can identify patterns and trends that may be useful for making decisions and taking action.*\n",
    "\n",
    "*Hint: look for a method that gives you the percentile or quantile 0.75 and 0.25 for a Pandas Series.*"
   ]
  },
  {
   "cell_type": "markdown",
   "id": "2d234634-50bd-41e0-88f7-d5ba684455d1",
   "metadata": {},
   "source": [
    "*Hint 2: check `Boolean selection according to the values of a single column` in https://towardsdatascience.com/filtering-data-frames-in-pandas-b570b1f834b9*"
   ]
  },
  {
   "cell_type": "code",
   "execution_count": null,
   "id": "b731bca6-a760-4860-a27b-a33efa712ce0",
   "metadata": {},
   "outputs": [],
   "source": [
    "# Your code here"
   ]
  }
 ],
 "metadata": {
  "kernelspec": {
   "display_name": "Python 3 (ipykernel)",
   "language": "python",
   "name": "python3"
  },
  "language_info": {
   "codemirror_mode": {
    "name": "ipython",
    "version": 3
   },
   "file_extension": ".py",
   "mimetype": "text/x-python",
   "name": "python",
   "nbconvert_exporter": "python",
   "pygments_lexer": "ipython3",
   "version": "3.9.13"
  }
 },
 "nbformat": 4,
 "nbformat_minor": 5
}
